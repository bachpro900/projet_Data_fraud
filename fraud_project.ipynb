{
  "nbformat": 4,
  "nbformat_minor": 0,
  "metadata": {
    "colab": {
      "name": "fraud_project.ipynb",
      "provenance": [],
      "collapsed_sections": [],
      "include_colab_link": true
    },
    "kernelspec": {
      "display_name": "Python 3",
      "name": "python3"
    },
    "language_info": {
      "name": "python"
    }
  },
  "cells": [
    {
      "cell_type": "markdown",
      "metadata": {
        "id": "view-in-github",
        "colab_type": "text"
      },
      "source": [
        "<a href=\"https://colab.research.google.com/github/bachpro900/projet_Data_fraud/blob/main/fraud_project.ipynb\" target=\"_parent\"><img src=\"https://colab.research.google.com/assets/colab-badge.svg\" alt=\"Open In Colab\"/></a>"
      ]
    },
    {
      "cell_type": "code",
      "metadata": {
        "id": "-xbKi3-yCwBk"
      },
      "source": [
        "import pandas as pd\n",
        "import numpy as np\n",
        "import matplotlib\n",
        "import matplotlib.pyplot as plt\n",
        "import seaborn as sns\n",
        "from sklearn.model_selection import train_test_split \n",
        "from sklearn.linear_model import LogisticRegression \n",
        "from sklearn.neighbors import KNeighborsClassifier\n",
        "import collections, numpy # collections.Counter(X) sert à compter les occurrences dans X de type numpy array\n",
        "import datetime as dt\n",
        "from sklearn.metrics import accuracy_score\n",
        "from sklearn.metrics import balanced_accuracy_score\n",
        "from sklearn.metrics import confusion_matrix\n",
        "from sklearn.metrics import classification_report\n",
        "\n"
      ],
      "execution_count": null,
      "outputs": []
    },
    {
      "cell_type": "code",
      "metadata": {
        "colab": {
          "base_uri": "https://localhost:8080/",
          "height": 234
        },
        "id": "6ZbHzB2-LR5H",
        "outputId": "96686433-2186-4032-de93-5d9718a0de90"
      },
      "source": [
        "\n",
        "df= pd.read_csv(\"https://assets-datascientest.s3-eu-west-1.amazonaws.com/de/total/fraud.csv\", index_col=\"user_id\")\n",
        "df_copie = df.copy()\n",
        "df.head()"
      ],
      "execution_count": null,
      "outputs": [
        {
          "output_type": "execute_result",
          "data": {
            "text/html": [
              "<div>\n",
              "<style scoped>\n",
              "    .dataframe tbody tr th:only-of-type {\n",
              "        vertical-align: middle;\n",
              "    }\n",
              "\n",
              "    .dataframe tbody tr th {\n",
              "        vertical-align: top;\n",
              "    }\n",
              "\n",
              "    .dataframe thead th {\n",
              "        text-align: right;\n",
              "    }\n",
              "</style>\n",
              "<table border=\"1\" class=\"dataframe\">\n",
              "  <thead>\n",
              "    <tr style=\"text-align: right;\">\n",
              "      <th></th>\n",
              "      <th>signup_time</th>\n",
              "      <th>purchase_time</th>\n",
              "      <th>purchase_value</th>\n",
              "      <th>device_id</th>\n",
              "      <th>source</th>\n",
              "      <th>browser</th>\n",
              "      <th>sex</th>\n",
              "      <th>age</th>\n",
              "      <th>ip_address</th>\n",
              "      <th>is_fraud</th>\n",
              "    </tr>\n",
              "    <tr>\n",
              "      <th>user_id</th>\n",
              "      <th></th>\n",
              "      <th></th>\n",
              "      <th></th>\n",
              "      <th></th>\n",
              "      <th></th>\n",
              "      <th></th>\n",
              "      <th></th>\n",
              "      <th></th>\n",
              "      <th></th>\n",
              "      <th></th>\n",
              "    </tr>\n",
              "  </thead>\n",
              "  <tbody>\n",
              "    <tr>\n",
              "      <th>22058</th>\n",
              "      <td>2015-02-24 22:55:49</td>\n",
              "      <td>2015-04-18 2:47:11</td>\n",
              "      <td>34</td>\n",
              "      <td>QVPSPJUOCKZAR</td>\n",
              "      <td>SEO</td>\n",
              "      <td>Chrome</td>\n",
              "      <td>M</td>\n",
              "      <td>39</td>\n",
              "      <td>7.327584e+08</td>\n",
              "      <td>0</td>\n",
              "    </tr>\n",
              "    <tr>\n",
              "      <th>333320</th>\n",
              "      <td>2015-06-07 20:39:50</td>\n",
              "      <td>2015-06-08 1:38:54</td>\n",
              "      <td>16</td>\n",
              "      <td>EOGFQPIZPYXFZ</td>\n",
              "      <td>Ads</td>\n",
              "      <td>Chrome</td>\n",
              "      <td>F</td>\n",
              "      <td>53</td>\n",
              "      <td>3.503114e+08</td>\n",
              "      <td>0</td>\n",
              "    </tr>\n",
              "    <tr>\n",
              "      <th>1359</th>\n",
              "      <td>2015-01-01 18:52:44</td>\n",
              "      <td>2015-01-01 18:52:45</td>\n",
              "      <td>15</td>\n",
              "      <td>YSSKYOSJHPPLJ</td>\n",
              "      <td>SEO</td>\n",
              "      <td>Opera</td>\n",
              "      <td>M</td>\n",
              "      <td>53</td>\n",
              "      <td>2.621474e+09</td>\n",
              "      <td>1</td>\n",
              "    </tr>\n",
              "    <tr>\n",
              "      <th>150084</th>\n",
              "      <td>2015-04-28 21:13:25</td>\n",
              "      <td>2015-05-04 13:54:50</td>\n",
              "      <td>44</td>\n",
              "      <td>ATGTXKYKUDUQN</td>\n",
              "      <td>SEO</td>\n",
              "      <td>Safari</td>\n",
              "      <td>M</td>\n",
              "      <td>41</td>\n",
              "      <td>3.840542e+09</td>\n",
              "      <td>0</td>\n",
              "    </tr>\n",
              "    <tr>\n",
              "      <th>221365</th>\n",
              "      <td>2015-07-21 7:09:52</td>\n",
              "      <td>2015-09-09 18:40:53</td>\n",
              "      <td>39</td>\n",
              "      <td>NAUITBZFJKHWW</td>\n",
              "      <td>Ads</td>\n",
              "      <td>Safari</td>\n",
              "      <td>M</td>\n",
              "      <td>45</td>\n",
              "      <td>4.155831e+08</td>\n",
              "      <td>0</td>\n",
              "    </tr>\n",
              "  </tbody>\n",
              "</table>\n",
              "</div>"
            ],
            "text/plain": [
              "                 signup_time        purchase_time  ...    ip_address is_fraud\n",
              "user_id                                            ...                       \n",
              "22058    2015-02-24 22:55:49   2015-04-18 2:47:11  ...  7.327584e+08        0\n",
              "333320   2015-06-07 20:39:50   2015-06-08 1:38:54  ...  3.503114e+08        0\n",
              "1359     2015-01-01 18:52:44  2015-01-01 18:52:45  ...  2.621474e+09        1\n",
              "150084   2015-04-28 21:13:25  2015-05-04 13:54:50  ...  3.840542e+09        0\n",
              "221365    2015-07-21 7:09:52  2015-09-09 18:40:53  ...  4.155831e+08        0\n",
              "\n",
              "[5 rows x 10 columns]"
            ]
          },
          "metadata": {},
          "execution_count": 3
        }
      ]
    },
    {
      "cell_type": "code",
      "metadata": {
        "colab": {
          "base_uri": "https://localhost:8080/"
        },
        "id": "kLKbJNI9DI8T",
        "outputId": "b2bd2aab-a898-4f1e-bfc2-1ede6b24b1ee"
      },
      "source": [
        "#afficher les dimensions du df\n",
        "df.shape "
      ],
      "execution_count": null,
      "outputs": [
        {
          "output_type": "execute_result",
          "data": {
            "text/plain": [
              "(151112, 10)"
            ]
          },
          "metadata": {},
          "execution_count": 4
        }
      ]
    },
    {
      "cell_type": "code",
      "metadata": {
        "colab": {
          "base_uri": "https://localhost:8080/"
        },
        "id": "QSvac93dDtI6",
        "outputId": "23f3fec3-60c9-4a0d-a8e7-9979283a45df"
      },
      "source": [
        "#checker si il y'a des cellules vide\n",
        "print(df.isnull().sum())\n",
        "print(\"\\nil n'y a pas de valeurs manquantes\")"
      ],
      "execution_count": null,
      "outputs": [
        {
          "output_type": "stream",
          "name": "stdout",
          "text": [
            "signup_time       0\n",
            "purchase_time     0\n",
            "purchase_value    0\n",
            "device_id         0\n",
            "source            0\n",
            "browser           0\n",
            "sex               0\n",
            "age               0\n",
            "ip_address        0\n",
            "is_fraud          0\n",
            "dtype: int64\n",
            "\n",
            "il n'y a pas de valeurs manquantes\n"
          ]
        }
      ]
    },
    {
      "cell_type": "code",
      "metadata": {
        "colab": {
          "base_uri": "https://localhost:8080/"
        },
        "id": "jVVmJ9iwFwgr",
        "outputId": "00d6c782-6d10-4e10-9a07-353c1b6f66ad"
      },
      "source": [
        "#vérifier si il n'y a pas des id doublons\n",
        "print(any(df.index.duplicated()))\n",
        "print(len(df.index.unique())==df.shape[0])\n"
      ],
      "execution_count": null,
      "outputs": [
        {
          "output_type": "stream",
          "name": "stdout",
          "text": [
            "False\n",
            "True\n"
          ]
        }
      ]
    },
    {
      "cell_type": "code",
      "metadata": {
        "colab": {
          "base_uri": "https://localhost:8080/"
        },
        "id": "_tB82KQ0niuO",
        "outputId": "c829bee8-26d2-4b17-bbf6-349bd13d2a16"
      },
      "source": [
        "#afficher le type des variables\n",
        "print(df.dtypes)"
      ],
      "execution_count": null,
      "outputs": [
        {
          "output_type": "stream",
          "name": "stdout",
          "text": [
            "signup_time        object\n",
            "purchase_time      object\n",
            "purchase_value      int64\n",
            "device_id          object\n",
            "source             object\n",
            "browser            object\n",
            "sex                object\n",
            "age                 int64\n",
            "ip_address        float64\n",
            "is_fraud            int64\n",
            "dtype: object\n"
          ]
        }
      ]
    },
    {
      "cell_type": "code",
      "metadata": {
        "id": "pipJBaQ5IVY6",
        "colab": {
          "base_uri": "https://localhost:8080/",
          "height": 234
        },
        "outputId": "3b42be5d-f401-4d92-c806-4110f90fe5db"
      },
      "source": [
        "################################### spliter en deux les colonnes temporelles###################################################\n",
        "###############################################################################################################################\n",
        "'''\n",
        "#spliter signup_time en une date, et une heure de connexion\n",
        "df[\"signup_day\"] = df['signup_time'].apply(lambda x: x.split(' ')[0])\n",
        "df[\"signup_hour\"] = df['signup_time'].apply(lambda x: x.split(' ')[1])\n",
        "\n",
        "#spliter signup_time en une date, et une heure d'achat\n",
        "df[\"purchase_day\"] = df['purchase_time'].apply(lambda x: x.split(' ')[0])\n",
        "df[\"purchase_hour\"] = df['purchase_time'].apply(lambda x: x.split(' ')[1])\n",
        "'''\n",
        "###############################################################################################################################\n",
        "###############################################################################################################################\n",
        "\n",
        "#transformer les deux premières colonnes en des variables temporelles\n",
        "df['signup_time'] = pd.to_datetime(df['signup_time'])\n",
        "df['purchase_time'] = pd.to_datetime(df['purchase_time'])\n",
        "\n",
        "#ajouter une nouvelle colonne qui représente la durée entre la connexion et l'achat\n",
        "df['lead_time'] = pd.to_datetime(df['purchase_time']) - pd.to_datetime(df['signup_time'])\n",
        "\n",
        "#convertir lead_time en seconds\n",
        "df['lead_time']=df['lead_time'].astype('timedelta64[s]')\n",
        "\n",
        "\n",
        "df.head()\n",
        "\n"
      ],
      "execution_count": null,
      "outputs": [
        {
          "output_type": "execute_result",
          "data": {
            "text/html": [
              "<div>\n",
              "<style scoped>\n",
              "    .dataframe tbody tr th:only-of-type {\n",
              "        vertical-align: middle;\n",
              "    }\n",
              "\n",
              "    .dataframe tbody tr th {\n",
              "        vertical-align: top;\n",
              "    }\n",
              "\n",
              "    .dataframe thead th {\n",
              "        text-align: right;\n",
              "    }\n",
              "</style>\n",
              "<table border=\"1\" class=\"dataframe\">\n",
              "  <thead>\n",
              "    <tr style=\"text-align: right;\">\n",
              "      <th></th>\n",
              "      <th>signup_time</th>\n",
              "      <th>purchase_time</th>\n",
              "      <th>purchase_value</th>\n",
              "      <th>device_id</th>\n",
              "      <th>source</th>\n",
              "      <th>browser</th>\n",
              "      <th>sex</th>\n",
              "      <th>age</th>\n",
              "      <th>ip_address</th>\n",
              "      <th>is_fraud</th>\n",
              "      <th>lead_time</th>\n",
              "    </tr>\n",
              "    <tr>\n",
              "      <th>user_id</th>\n",
              "      <th></th>\n",
              "      <th></th>\n",
              "      <th></th>\n",
              "      <th></th>\n",
              "      <th></th>\n",
              "      <th></th>\n",
              "      <th></th>\n",
              "      <th></th>\n",
              "      <th></th>\n",
              "      <th></th>\n",
              "      <th></th>\n",
              "    </tr>\n",
              "  </thead>\n",
              "  <tbody>\n",
              "    <tr>\n",
              "      <th>22058</th>\n",
              "      <td>2015-02-24 22:55:49</td>\n",
              "      <td>2015-04-18 02:47:11</td>\n",
              "      <td>34</td>\n",
              "      <td>QVPSPJUOCKZAR</td>\n",
              "      <td>SEO</td>\n",
              "      <td>Chrome</td>\n",
              "      <td>M</td>\n",
              "      <td>39</td>\n",
              "      <td>7.327584e+08</td>\n",
              "      <td>0</td>\n",
              "      <td>4506682.0</td>\n",
              "    </tr>\n",
              "    <tr>\n",
              "      <th>333320</th>\n",
              "      <td>2015-06-07 20:39:50</td>\n",
              "      <td>2015-06-08 01:38:54</td>\n",
              "      <td>16</td>\n",
              "      <td>EOGFQPIZPYXFZ</td>\n",
              "      <td>Ads</td>\n",
              "      <td>Chrome</td>\n",
              "      <td>F</td>\n",
              "      <td>53</td>\n",
              "      <td>3.503114e+08</td>\n",
              "      <td>0</td>\n",
              "      <td>17944.0</td>\n",
              "    </tr>\n",
              "    <tr>\n",
              "      <th>1359</th>\n",
              "      <td>2015-01-01 18:52:44</td>\n",
              "      <td>2015-01-01 18:52:45</td>\n",
              "      <td>15</td>\n",
              "      <td>YSSKYOSJHPPLJ</td>\n",
              "      <td>SEO</td>\n",
              "      <td>Opera</td>\n",
              "      <td>M</td>\n",
              "      <td>53</td>\n",
              "      <td>2.621474e+09</td>\n",
              "      <td>1</td>\n",
              "      <td>1.0</td>\n",
              "    </tr>\n",
              "    <tr>\n",
              "      <th>150084</th>\n",
              "      <td>2015-04-28 21:13:25</td>\n",
              "      <td>2015-05-04 13:54:50</td>\n",
              "      <td>44</td>\n",
              "      <td>ATGTXKYKUDUQN</td>\n",
              "      <td>SEO</td>\n",
              "      <td>Safari</td>\n",
              "      <td>M</td>\n",
              "      <td>41</td>\n",
              "      <td>3.840542e+09</td>\n",
              "      <td>0</td>\n",
              "      <td>492085.0</td>\n",
              "    </tr>\n",
              "    <tr>\n",
              "      <th>221365</th>\n",
              "      <td>2015-07-21 07:09:52</td>\n",
              "      <td>2015-09-09 18:40:53</td>\n",
              "      <td>39</td>\n",
              "      <td>NAUITBZFJKHWW</td>\n",
              "      <td>Ads</td>\n",
              "      <td>Safari</td>\n",
              "      <td>M</td>\n",
              "      <td>45</td>\n",
              "      <td>4.155831e+08</td>\n",
              "      <td>0</td>\n",
              "      <td>4361461.0</td>\n",
              "    </tr>\n",
              "  </tbody>\n",
              "</table>\n",
              "</div>"
            ],
            "text/plain": [
              "                signup_time       purchase_time  ...  is_fraud  lead_time\n",
              "user_id                                          ...                     \n",
              "22058   2015-02-24 22:55:49 2015-04-18 02:47:11  ...         0  4506682.0\n",
              "333320  2015-06-07 20:39:50 2015-06-08 01:38:54  ...         0    17944.0\n",
              "1359    2015-01-01 18:52:44 2015-01-01 18:52:45  ...         1        1.0\n",
              "150084  2015-04-28 21:13:25 2015-05-04 13:54:50  ...         0   492085.0\n",
              "221365  2015-07-21 07:09:52 2015-09-09 18:40:53  ...         0  4361461.0\n",
              "\n",
              "[5 rows x 11 columns]"
            ]
          },
          "metadata": {},
          "execution_count": 8
        }
      ]
    },
    {
      "cell_type": "code",
      "metadata": {
        "colab": {
          "base_uri": "https://localhost:8080/"
        },
        "id": "--dq_XHvc3Cl",
        "outputId": "88f60f7b-993a-423b-ce29-b78297402668"
      },
      "source": [
        "print(df.dtypes)"
      ],
      "execution_count": null,
      "outputs": [
        {
          "output_type": "stream",
          "name": "stdout",
          "text": [
            "signup_time       datetime64[ns]\n",
            "purchase_time     datetime64[ns]\n",
            "purchase_value             int64\n",
            "device_id                 object\n",
            "source                    object\n",
            "browser                   object\n",
            "sex                       object\n",
            "age                        int64\n",
            "ip_address               float64\n",
            "is_fraud                   int64\n",
            "lead_time                float64\n",
            "dtype: object\n"
          ]
        }
      ]
    },
    {
      "cell_type": "code",
      "metadata": {
        "colab": {
          "base_uri": "https://localhost:8080/",
          "height": 295
        },
        "id": "T0BPzKFLDTfX",
        "outputId": "8452035c-505e-415e-ca53-e9fdfa4e7f39"
      },
      "source": [
        "df.describe()"
      ],
      "execution_count": null,
      "outputs": [
        {
          "output_type": "execute_result",
          "data": {
            "text/html": [
              "<div>\n",
              "<style scoped>\n",
              "    .dataframe tbody tr th:only-of-type {\n",
              "        vertical-align: middle;\n",
              "    }\n",
              "\n",
              "    .dataframe tbody tr th {\n",
              "        vertical-align: top;\n",
              "    }\n",
              "\n",
              "    .dataframe thead th {\n",
              "        text-align: right;\n",
              "    }\n",
              "</style>\n",
              "<table border=\"1\" class=\"dataframe\">\n",
              "  <thead>\n",
              "    <tr style=\"text-align: right;\">\n",
              "      <th></th>\n",
              "      <th>purchase_value</th>\n",
              "      <th>age</th>\n",
              "      <th>ip_address</th>\n",
              "      <th>is_fraud</th>\n",
              "      <th>lead_time</th>\n",
              "    </tr>\n",
              "  </thead>\n",
              "  <tbody>\n",
              "    <tr>\n",
              "      <th>count</th>\n",
              "      <td>151112.000000</td>\n",
              "      <td>151112.000000</td>\n",
              "      <td>1.511120e+05</td>\n",
              "      <td>151112.000000</td>\n",
              "      <td>1.511120e+05</td>\n",
              "    </tr>\n",
              "    <tr>\n",
              "      <th>mean</th>\n",
              "      <td>36.935372</td>\n",
              "      <td>33.140704</td>\n",
              "      <td>2.152145e+09</td>\n",
              "      <td>0.093646</td>\n",
              "      <td>4.932029e+06</td>\n",
              "    </tr>\n",
              "    <tr>\n",
              "      <th>std</th>\n",
              "      <td>18.322762</td>\n",
              "      <td>8.617733</td>\n",
              "      <td>1.248497e+09</td>\n",
              "      <td>0.291336</td>\n",
              "      <td>3.126263e+06</td>\n",
              "    </tr>\n",
              "    <tr>\n",
              "      <th>min</th>\n",
              "      <td>9.000000</td>\n",
              "      <td>18.000000</td>\n",
              "      <td>5.209350e+04</td>\n",
              "      <td>0.000000</td>\n",
              "      <td>1.000000e+00</td>\n",
              "    </tr>\n",
              "    <tr>\n",
              "      <th>25%</th>\n",
              "      <td>22.000000</td>\n",
              "      <td>27.000000</td>\n",
              "      <td>1.085934e+09</td>\n",
              "      <td>0.000000</td>\n",
              "      <td>2.186754e+06</td>\n",
              "    </tr>\n",
              "    <tr>\n",
              "      <th>50%</th>\n",
              "      <td>35.000000</td>\n",
              "      <td>33.000000</td>\n",
              "      <td>2.154770e+09</td>\n",
              "      <td>0.000000</td>\n",
              "      <td>4.926346e+06</td>\n",
              "    </tr>\n",
              "    <tr>\n",
              "      <th>75%</th>\n",
              "      <td>49.000000</td>\n",
              "      <td>39.000000</td>\n",
              "      <td>3.243258e+09</td>\n",
              "      <td>0.000000</td>\n",
              "      <td>7.644524e+06</td>\n",
              "    </tr>\n",
              "    <tr>\n",
              "      <th>max</th>\n",
              "      <td>154.000000</td>\n",
              "      <td>76.000000</td>\n",
              "      <td>4.294850e+09</td>\n",
              "      <td>1.000000</td>\n",
              "      <td>1.036797e+07</td>\n",
              "    </tr>\n",
              "  </tbody>\n",
              "</table>\n",
              "</div>"
            ],
            "text/plain": [
              "       purchase_value            age    ip_address       is_fraud     lead_time\n",
              "count   151112.000000  151112.000000  1.511120e+05  151112.000000  1.511120e+05\n",
              "mean        36.935372      33.140704  2.152145e+09       0.093646  4.932029e+06\n",
              "std         18.322762       8.617733  1.248497e+09       0.291336  3.126263e+06\n",
              "min          9.000000      18.000000  5.209350e+04       0.000000  1.000000e+00\n",
              "25%         22.000000      27.000000  1.085934e+09       0.000000  2.186754e+06\n",
              "50%         35.000000      33.000000  2.154770e+09       0.000000  4.926346e+06\n",
              "75%         49.000000      39.000000  3.243258e+09       0.000000  7.644524e+06\n",
              "max        154.000000      76.000000  4.294850e+09       1.000000  1.036797e+07"
            ]
          },
          "metadata": {},
          "execution_count": 9
        }
      ]
    },
    {
      "cell_type": "code",
      "metadata": {
        "colab": {
          "base_uri": "https://localhost:8080/",
          "height": 234
        },
        "id": "0-Fkv85dYA9x",
        "outputId": "3adfee35-4a11-4d4c-e10c-cf7925c34679"
      },
      "source": [
        "\n",
        "#replacer F par 1 et M par 0\n",
        "df[\"sex\"].replace({'F': 1, 'M': 0}, inplace=True)\n",
        "#df['browser'].replace({'Chrome':0, 'Opera':1, 'Safari':2, 'IE':3 , 'FireFox':4})\n",
        "df.head()"
      ],
      "execution_count": null,
      "outputs": [
        {
          "output_type": "execute_result",
          "data": {
            "text/html": [
              "<div>\n",
              "<style scoped>\n",
              "    .dataframe tbody tr th:only-of-type {\n",
              "        vertical-align: middle;\n",
              "    }\n",
              "\n",
              "    .dataframe tbody tr th {\n",
              "        vertical-align: top;\n",
              "    }\n",
              "\n",
              "    .dataframe thead th {\n",
              "        text-align: right;\n",
              "    }\n",
              "</style>\n",
              "<table border=\"1\" class=\"dataframe\">\n",
              "  <thead>\n",
              "    <tr style=\"text-align: right;\">\n",
              "      <th></th>\n",
              "      <th>signup_time</th>\n",
              "      <th>purchase_time</th>\n",
              "      <th>purchase_value</th>\n",
              "      <th>device_id</th>\n",
              "      <th>source</th>\n",
              "      <th>browser</th>\n",
              "      <th>sex</th>\n",
              "      <th>age</th>\n",
              "      <th>ip_address</th>\n",
              "      <th>is_fraud</th>\n",
              "      <th>lead_time</th>\n",
              "    </tr>\n",
              "    <tr>\n",
              "      <th>user_id</th>\n",
              "      <th></th>\n",
              "      <th></th>\n",
              "      <th></th>\n",
              "      <th></th>\n",
              "      <th></th>\n",
              "      <th></th>\n",
              "      <th></th>\n",
              "      <th></th>\n",
              "      <th></th>\n",
              "      <th></th>\n",
              "      <th></th>\n",
              "    </tr>\n",
              "  </thead>\n",
              "  <tbody>\n",
              "    <tr>\n",
              "      <th>22058</th>\n",
              "      <td>2015-02-24 22:55:49</td>\n",
              "      <td>2015-04-18 02:47:11</td>\n",
              "      <td>34</td>\n",
              "      <td>QVPSPJUOCKZAR</td>\n",
              "      <td>SEO</td>\n",
              "      <td>Chrome</td>\n",
              "      <td>0</td>\n",
              "      <td>39</td>\n",
              "      <td>7.327584e+08</td>\n",
              "      <td>0</td>\n",
              "      <td>4506682.0</td>\n",
              "    </tr>\n",
              "    <tr>\n",
              "      <th>333320</th>\n",
              "      <td>2015-06-07 20:39:50</td>\n",
              "      <td>2015-06-08 01:38:54</td>\n",
              "      <td>16</td>\n",
              "      <td>EOGFQPIZPYXFZ</td>\n",
              "      <td>Ads</td>\n",
              "      <td>Chrome</td>\n",
              "      <td>1</td>\n",
              "      <td>53</td>\n",
              "      <td>3.503114e+08</td>\n",
              "      <td>0</td>\n",
              "      <td>17944.0</td>\n",
              "    </tr>\n",
              "    <tr>\n",
              "      <th>1359</th>\n",
              "      <td>2015-01-01 18:52:44</td>\n",
              "      <td>2015-01-01 18:52:45</td>\n",
              "      <td>15</td>\n",
              "      <td>YSSKYOSJHPPLJ</td>\n",
              "      <td>SEO</td>\n",
              "      <td>Opera</td>\n",
              "      <td>0</td>\n",
              "      <td>53</td>\n",
              "      <td>2.621474e+09</td>\n",
              "      <td>1</td>\n",
              "      <td>1.0</td>\n",
              "    </tr>\n",
              "    <tr>\n",
              "      <th>150084</th>\n",
              "      <td>2015-04-28 21:13:25</td>\n",
              "      <td>2015-05-04 13:54:50</td>\n",
              "      <td>44</td>\n",
              "      <td>ATGTXKYKUDUQN</td>\n",
              "      <td>SEO</td>\n",
              "      <td>Safari</td>\n",
              "      <td>0</td>\n",
              "      <td>41</td>\n",
              "      <td>3.840542e+09</td>\n",
              "      <td>0</td>\n",
              "      <td>492085.0</td>\n",
              "    </tr>\n",
              "    <tr>\n",
              "      <th>221365</th>\n",
              "      <td>2015-07-21 07:09:52</td>\n",
              "      <td>2015-09-09 18:40:53</td>\n",
              "      <td>39</td>\n",
              "      <td>NAUITBZFJKHWW</td>\n",
              "      <td>Ads</td>\n",
              "      <td>Safari</td>\n",
              "      <td>0</td>\n",
              "      <td>45</td>\n",
              "      <td>4.155831e+08</td>\n",
              "      <td>0</td>\n",
              "      <td>4361461.0</td>\n",
              "    </tr>\n",
              "  </tbody>\n",
              "</table>\n",
              "</div>"
            ],
            "text/plain": [
              "                signup_time       purchase_time  ...  is_fraud  lead_time\n",
              "user_id                                          ...                     \n",
              "22058   2015-02-24 22:55:49 2015-04-18 02:47:11  ...         0  4506682.0\n",
              "333320  2015-06-07 20:39:50 2015-06-08 01:38:54  ...         0    17944.0\n",
              "1359    2015-01-01 18:52:44 2015-01-01 18:52:45  ...         1        1.0\n",
              "150084  2015-04-28 21:13:25 2015-05-04 13:54:50  ...         0   492085.0\n",
              "221365  2015-07-21 07:09:52 2015-09-09 18:40:53  ...         0  4361461.0\n",
              "\n",
              "[5 rows x 11 columns]"
            ]
          },
          "metadata": {},
          "execution_count": 10
        }
      ]
    },
    {
      "cell_type": "code",
      "metadata": {
        "colab": {
          "base_uri": "https://localhost:8080/",
          "height": 1000
        },
        "id": "xag1zLIVnQoB",
        "outputId": "4539c82f-2738-495b-9eb7-15b53db5b0b8"
      },
      "source": [
        "#visiualiser la distribution des variables du dataframe\n",
        "\n",
        "sns.boxplot(data=df.select_dtypes('int64'))\n",
        "plt.show()\n",
        "\n",
        "df.select_dtypes('int64').hist(figsize=(7,7), ec='w')\n",
        "plt.show()\n",
        "\n",
        "df[\"lead_time\"].hist(figsize=(7,7), ec='w')\n",
        "plt.show()"
      ],
      "execution_count": null,
      "outputs": [
        {
          "output_type": "display_data",
          "data": {
            "image/png": "[encoded data removed]",
            "text/plain": [
              "<Figure size 432x288 with 1 Axes>"
            ]
          },
          "metadata": {
            "needs_background": "light"
          }
        },
        {
          "output_type": "display_data",
          "data": {
            "image/png": "[encoded data removed]",
            "text/plain": [
              "<Figure size 504x504 with 4 Axes>"
            ]
          },
          "metadata": {
            "needs_background": "light"
          }
        },
        {
          "output_type": "display_data",
          "data": {
            "image/png": "[encoded data removed]",
            "text/plain": [
              "<Figure size 504x504 with 1 Axes>"
            ]
          },
          "metadata": {
            "needs_background": "light"
          }
        }
      ]
    },
    {
      "cell_type": "code",
      "metadata": {
        "colab": {
          "base_uri": "https://localhost:8080/",
          "height": 556
        },
        "id": "LZik-UpcTX_d",
        "outputId": "b069ce09-6bd1-4ebd-b3ac-584ef0c6f70e"
      },
      "source": [
        "#viz de is_fraud\n",
        "sns.countplot(df['is_fraud']);\n"
      ],
      "execution_count": null,
      "outputs": [
        {
          "output_type": "stream",
          "name": "stderr",
          "text": [
            "/usr/local/lib/python3.7/dist-packages/seaborn/_decorators.py:43: FutureWarning: Pass the following variable as a keyword arg: x. From version 0.12, the only valid positional argument will be `data`, and passing other arguments without an explicit keyword will result in an error or misinterpretation.\n",
            "  FutureWarning\n"
          ]
        },
        {
          "output_type": "display_data",
          "data": {
            "image/png": "[encoded data removed]",
            "text/plain": [
              "<Figure size 720x576 with 1 Axes>"
            ]
          },
          "metadata": {}
        }
      ]
    },
    {
      "cell_type": "code",
      "metadata": {
        "colab": {
          "base_uri": "https://localhost:8080/"
        },
        "id": "nbA-2_ErUEPz",
        "outputId": "cd87c9db-386a-49ed-859d-75bb7c15e935"
      },
      "source": [
        "#répartition des deux classes\n",
        "print(\"\\nRépartition des classes : \\n\",df[\"is_fraud\"].value_counts())\n",
        "print(\"\\nil n y a que\",df[\"is_fraud\"].value_counts()[1]/df[\"is_fraud\"].value_counts()[0],\"% de fraudeurs dans le dataframe initial\")\n",
        "print(\"\\nil semble qu'il y a un déséquilibre des classes. C'est ce que va découvrir\")\n"
      ],
      "execution_count": null,
      "outputs": [
        {
          "output_type": "stream",
          "name": "stdout",
          "text": [
            "\n",
            "Répartition des classes : \n",
            " 0    136961\n",
            "1     14151\n",
            "Name: is_fraud, dtype: int64\n",
            "\n",
            "il n y a que 0.10332138345952498 % de fraudeurs dans le dataframe initial\n",
            "\n",
            "il semble qu'il y a un déséquilibre des classes. C'est ce que va découvrir\n"
          ]
        }
      ]
    },
    {
      "cell_type": "code",
      "metadata": {
        "colab": {
          "base_uri": "https://localhost:8080/",
          "height": 556
        },
        "id": "-ZIrje3Cvmy-",
        "outputId": "3e42839d-966d-4784-b837-e8722cb88513"
      },
      "source": [
        "#distribution de la target en fonction du sex\n",
        "sns.set_theme\n",
        "sns.countplot(df['is_fraud'] , hue=df[\"sex\"]);"
      ],
      "execution_count": null,
      "outputs": [
        {
          "output_type": "stream",
          "name": "stderr",
          "text": [
            "/usr/local/lib/python3.7/dist-packages/seaborn/_decorators.py:43: FutureWarning: Pass the following variable as a keyword arg: x. From version 0.12, the only valid positional argument will be `data`, and passing other arguments without an explicit keyword will result in an error or misinterpretation.\n",
            "  FutureWarning\n"
          ]
        },
        {
          "output_type": "display_data",
          "data": {
            "image/png": "[encoded data removed]",
            "text/plain": [
              "<Figure size 720x576 with 1 Axes>"
            ]
          },
          "metadata": {}
        }
      ]
    },
    {
      "cell_type": "code",
      "metadata": {
        "colab": {
          "base_uri": "https://localhost:8080/",
          "height": 556
        },
        "id": "QHgCPYSC_Is6",
        "outputId": "dbb97837-7d5d-463f-f51a-8dd15b86511a"
      },
      "source": [
        "#distribution de la target en fonction du moteur de recherche\n",
        "sns.countplot(df['is_fraud'] , hue=df[\"browser\"]);"
      ],
      "execution_count": null,
      "outputs": [
        {
          "output_type": "stream",
          "name": "stderr",
          "text": [
            "/usr/local/lib/python3.7/dist-packages/seaborn/_decorators.py:43: FutureWarning: Pass the following variable as a keyword arg: x. From version 0.12, the only valid positional argument will be `data`, and passing other arguments without an explicit keyword will result in an error or misinterpretation.\n",
            "  FutureWarning\n"
          ]
        },
        {
          "output_type": "display_data",
          "data": {
            "image/png": "[encoded data removed]",
            "text/plain": [
              "<Figure size 720x576 with 1 Axes>"
            ]
          },
          "metadata": {}
        }
      ]
    },
    {
      "cell_type": "code",
      "metadata": {
        "colab": {
          "base_uri": "https://localhost:8080/",
          "height": 556
        },
        "id": "BVGwBm0wI2zZ",
        "outputId": "f4857a88-1590-49aa-d648-d6afe96fcdce"
      },
      "source": [
        "#distribution de la target en fonction de la source\n",
        "\n",
        "sns.countplot(df['is_fraud'] , hue=df[\"source\"]);\n"
      ],
      "execution_count": null,
      "outputs": [
        {
          "output_type": "stream",
          "name": "stderr",
          "text": [
            "/usr/local/lib/python3.7/dist-packages/seaborn/_decorators.py:43: FutureWarning: Pass the following variable as a keyword arg: x. From version 0.12, the only valid positional argument will be `data`, and passing other arguments without an explicit keyword will result in an error or misinterpretation.\n",
            "  FutureWarning\n"
          ]
        },
        {
          "output_type": "display_data",
          "data": {
            "image/png": "[encoded data removed]",
            "text/plain": [
              "<Figure size 720x576 with 1 Axes>"
            ]
          },
          "metadata": {}
        }
      ]
    },
    {
      "cell_type": "code",
      "metadata": {
        "colab": {
          "base_uri": "https://localhost:8080/"
        },
        "id": "DuaTbUgHPA0i",
        "outputId": "22906137-96c1-4071-fb5f-b70a5ca0e54e"
      },
      "source": [
        "#filtrer sur les transactions fraduleuses avec un lead_time = 1 ns\n",
        "transactions_fraduleuses=df[\"lead_time\"][df[\"is_fraud\"] == 1]\n",
        "\n",
        "\n",
        "nb_lead_time_1ns = np.count_nonzero(transactions_fraduleuses == 1)\n",
        "\n",
        "print(\"sur\", transactions_fraduleuses.size, \"transactions fraduleuses, il y en a\", nb_lead_time_1ns,\"qui se sont passées en une 1 ns !!\" )"
      ],
      "execution_count": null,
      "outputs": [
        {
          "output_type": "stream",
          "name": "stdout",
          "text": [
            "sur 14151 transactions fraduleuses, il y en a 7600 qui se sont passées en une 1 ns !!\n"
          ]
        }
      ]
    },
    {
      "cell_type": "code",
      "metadata": {
        "colab": {
          "base_uri": "https://localhost:8080/",
          "height": 484
        },
        "id": "xpJTvzj57xoh",
        "outputId": "bd6256c7-dd02-4bee-b17e-4580e3864cec"
      },
      "source": [
        "df_fraud_uniquement = df[df[\"is_fraud\"] == 1]\n",
        "nb_fraud_en_1ns=df_fraud_uniquement[\"lead_time\"].value_counts()\n",
        "sns.set(rc={'figure.figsize':(10,8)})\n",
        "plt.pie(nb_fraud_en_1ns, autopct='%1.1f%%')\n",
        ";"
      ],
      "execution_count": null,
      "outputs": [
        {
          "output_type": "execute_result",
          "data": {
            "application/vnd.google.colaboratory.intrinsic+json": {
              "type": "string"
            },
            "text/plain": [
              "''"
            ]
          },
          "metadata": {},
          "execution_count": 189
        },
        {
          "output_type": "display_data",
          "data": {
            "image/png": "[encoded data removed]",
            "text/plain": [
              "<Figure size 720x576 with 1 Axes>"
            ]
          },
          "metadata": {}
        }
      ]
    },
    {
      "cell_type": "code",
      "metadata": {
        "id": "PopSvc3oZtFD"
      },
      "source": [
        "#spliter les variables catégorièlles \n",
        "dummy_variables = pd.get_dummies(data=df[['source', 'browser']], drop_first=False)\n",
        "\n"
      ],
      "execution_count": null,
      "outputs": []
    },
    {
      "cell_type": "code",
      "metadata": {
        "colab": {
          "base_uri": "https://localhost:8080/",
          "height": 234
        },
        "id": "RWN7ieUwA5oT",
        "outputId": "bcf895c8-3222-463f-80cf-1de3d179557f"
      },
      "source": [
        "#construire un df qu'avec les variables pertinentes\n",
        "df_redifined =pd.concat([df[['purchase_value', 'sex', 'age', 'lead_time', \"is_fraud\"]], dummy_variables], axis=1)\n",
        "df_redifined.head()"
      ],
      "execution_count": null,
      "outputs": [
        {
          "output_type": "execute_result",
          "data": {
            "text/html": [
              "<div>\n",
              "<style scoped>\n",
              "    .dataframe tbody tr th:only-of-type {\n",
              "        vertical-align: middle;\n",
              "    }\n",
              "\n",
              "    .dataframe tbody tr th {\n",
              "        vertical-align: top;\n",
              "    }\n",
              "\n",
              "    .dataframe thead th {\n",
              "        text-align: right;\n",
              "    }\n",
              "</style>\n",
              "<table border=\"1\" class=\"dataframe\">\n",
              "  <thead>\n",
              "    <tr style=\"text-align: right;\">\n",
              "      <th></th>\n",
              "      <th>purchase_value</th>\n",
              "      <th>sex</th>\n",
              "      <th>age</th>\n",
              "      <th>lead_time</th>\n",
              "      <th>is_fraud</th>\n",
              "      <th>source_Ads</th>\n",
              "      <th>source_Direct</th>\n",
              "      <th>source_SEO</th>\n",
              "      <th>browser_Chrome</th>\n",
              "      <th>browser_FireFox</th>\n",
              "      <th>browser_IE</th>\n",
              "      <th>browser_Opera</th>\n",
              "      <th>browser_Safari</th>\n",
              "    </tr>\n",
              "    <tr>\n",
              "      <th>user_id</th>\n",
              "      <th></th>\n",
              "      <th></th>\n",
              "      <th></th>\n",
              "      <th></th>\n",
              "      <th></th>\n",
              "      <th></th>\n",
              "      <th></th>\n",
              "      <th></th>\n",
              "      <th></th>\n",
              "      <th></th>\n",
              "      <th></th>\n",
              "      <th></th>\n",
              "      <th></th>\n",
              "    </tr>\n",
              "  </thead>\n",
              "  <tbody>\n",
              "    <tr>\n",
              "      <th>22058</th>\n",
              "      <td>34</td>\n",
              "      <td>0</td>\n",
              "      <td>39</td>\n",
              "      <td>4506682.0</td>\n",
              "      <td>0</td>\n",
              "      <td>0</td>\n",
              "      <td>0</td>\n",
              "      <td>1</td>\n",
              "      <td>1</td>\n",
              "      <td>0</td>\n",
              "      <td>0</td>\n",
              "      <td>0</td>\n",
              "      <td>0</td>\n",
              "    </tr>\n",
              "    <tr>\n",
              "      <th>333320</th>\n",
              "      <td>16</td>\n",
              "      <td>1</td>\n",
              "      <td>53</td>\n",
              "      <td>17944.0</td>\n",
              "      <td>0</td>\n",
              "      <td>1</td>\n",
              "      <td>0</td>\n",
              "      <td>0</td>\n",
              "      <td>1</td>\n",
              "      <td>0</td>\n",
              "      <td>0</td>\n",
              "      <td>0</td>\n",
              "      <td>0</td>\n",
              "    </tr>\n",
              "    <tr>\n",
              "      <th>1359</th>\n",
              "      <td>15</td>\n",
              "      <td>0</td>\n",
              "      <td>53</td>\n",
              "      <td>1.0</td>\n",
              "      <td>1</td>\n",
              "      <td>0</td>\n",
              "      <td>0</td>\n",
              "      <td>1</td>\n",
              "      <td>0</td>\n",
              "      <td>0</td>\n",
              "      <td>0</td>\n",
              "      <td>1</td>\n",
              "      <td>0</td>\n",
              "    </tr>\n",
              "    <tr>\n",
              "      <th>150084</th>\n",
              "      <td>44</td>\n",
              "      <td>0</td>\n",
              "      <td>41</td>\n",
              "      <td>492085.0</td>\n",
              "      <td>0</td>\n",
              "      <td>0</td>\n",
              "      <td>0</td>\n",
              "      <td>1</td>\n",
              "      <td>0</td>\n",
              "      <td>0</td>\n",
              "      <td>0</td>\n",
              "      <td>0</td>\n",
              "      <td>1</td>\n",
              "    </tr>\n",
              "    <tr>\n",
              "      <th>221365</th>\n",
              "      <td>39</td>\n",
              "      <td>0</td>\n",
              "      <td>45</td>\n",
              "      <td>4361461.0</td>\n",
              "      <td>0</td>\n",
              "      <td>1</td>\n",
              "      <td>0</td>\n",
              "      <td>0</td>\n",
              "      <td>0</td>\n",
              "      <td>0</td>\n",
              "      <td>0</td>\n",
              "      <td>0</td>\n",
              "      <td>1</td>\n",
              "    </tr>\n",
              "  </tbody>\n",
              "</table>\n",
              "</div>"
            ],
            "text/plain": [
              "         purchase_value  sex  age  ...  browser_IE  browser_Opera  browser_Safari\n",
              "user_id                            ...                                           \n",
              "22058                34    0   39  ...           0              0               0\n",
              "333320               16    1   53  ...           0              0               0\n",
              "1359                 15    0   53  ...           0              1               0\n",
              "150084               44    0   41  ...           0              0               1\n",
              "221365               39    0   45  ...           0              0               1\n",
              "\n",
              "[5 rows x 13 columns]"
            ]
          },
          "metadata": {},
          "execution_count": 14
        }
      ]
    },
    {
      "cell_type": "code",
      "metadata": {
        "id": "gWB4P2QDr84Q",
        "colab": {
          "base_uri": "https://localhost:8080/",
          "height": 234
        },
        "outputId": "2c6c61c0-1215-4048-914e-74f047c965b6"
      },
      "source": [
        "#normaliser les données\n",
        "\n",
        "def normalisation(DF):\n",
        "  return (DF - DF.min()) / ( DF.max() - DF.min())\n",
        "  \n",
        "df_normalized = normalisation(df_redifined)\n",
        "df_normalized.head()\n",
        "\n"
      ],
      "execution_count": null,
      "outputs": [
        {
          "output_type": "execute_result",
          "data": {
            "text/html": [
              "<div>\n",
              "<style scoped>\n",
              "    .dataframe tbody tr th:only-of-type {\n",
              "        vertical-align: middle;\n",
              "    }\n",
              "\n",
              "    .dataframe tbody tr th {\n",
              "        vertical-align: top;\n",
              "    }\n",
              "\n",
              "    .dataframe thead th {\n",
              "        text-align: right;\n",
              "    }\n",
              "</style>\n",
              "<table border=\"1\" class=\"dataframe\">\n",
              "  <thead>\n",
              "    <tr style=\"text-align: right;\">\n",
              "      <th></th>\n",
              "      <th>purchase_value</th>\n",
              "      <th>sex</th>\n",
              "      <th>age</th>\n",
              "      <th>lead_time</th>\n",
              "      <th>is_fraud</th>\n",
              "      <th>source_Ads</th>\n",
              "      <th>source_Direct</th>\n",
              "      <th>source_SEO</th>\n",
              "      <th>browser_Chrome</th>\n",
              "      <th>browser_FireFox</th>\n",
              "      <th>browser_IE</th>\n",
              "      <th>browser_Opera</th>\n",
              "      <th>browser_Safari</th>\n",
              "    </tr>\n",
              "    <tr>\n",
              "      <th>user_id</th>\n",
              "      <th></th>\n",
              "      <th></th>\n",
              "      <th></th>\n",
              "      <th></th>\n",
              "      <th></th>\n",
              "      <th></th>\n",
              "      <th></th>\n",
              "      <th></th>\n",
              "      <th></th>\n",
              "      <th></th>\n",
              "      <th></th>\n",
              "      <th></th>\n",
              "      <th></th>\n",
              "    </tr>\n",
              "  </thead>\n",
              "  <tbody>\n",
              "    <tr>\n",
              "      <th>22058</th>\n",
              "      <td>0.172414</td>\n",
              "      <td>0.0</td>\n",
              "      <td>0.362069</td>\n",
              "      <td>0.434673</td>\n",
              "      <td>0.0</td>\n",
              "      <td>0.0</td>\n",
              "      <td>0.0</td>\n",
              "      <td>1.0</td>\n",
              "      <td>1.0</td>\n",
              "      <td>0.0</td>\n",
              "      <td>0.0</td>\n",
              "      <td>0.0</td>\n",
              "      <td>0.0</td>\n",
              "    </tr>\n",
              "    <tr>\n",
              "      <th>333320</th>\n",
              "      <td>0.048276</td>\n",
              "      <td>1.0</td>\n",
              "      <td>0.603448</td>\n",
              "      <td>0.001731</td>\n",
              "      <td>0.0</td>\n",
              "      <td>1.0</td>\n",
              "      <td>0.0</td>\n",
              "      <td>0.0</td>\n",
              "      <td>1.0</td>\n",
              "      <td>0.0</td>\n",
              "      <td>0.0</td>\n",
              "      <td>0.0</td>\n",
              "      <td>0.0</td>\n",
              "    </tr>\n",
              "    <tr>\n",
              "      <th>1359</th>\n",
              "      <td>0.041379</td>\n",
              "      <td>0.0</td>\n",
              "      <td>0.603448</td>\n",
              "      <td>0.000000</td>\n",
              "      <td>1.0</td>\n",
              "      <td>0.0</td>\n",
              "      <td>0.0</td>\n",
              "      <td>1.0</td>\n",
              "      <td>0.0</td>\n",
              "      <td>0.0</td>\n",
              "      <td>0.0</td>\n",
              "      <td>1.0</td>\n",
              "      <td>0.0</td>\n",
              "    </tr>\n",
              "    <tr>\n",
              "      <th>150084</th>\n",
              "      <td>0.241379</td>\n",
              "      <td>0.0</td>\n",
              "      <td>0.396552</td>\n",
              "      <td>0.047462</td>\n",
              "      <td>0.0</td>\n",
              "      <td>0.0</td>\n",
              "      <td>0.0</td>\n",
              "      <td>1.0</td>\n",
              "      <td>0.0</td>\n",
              "      <td>0.0</td>\n",
              "      <td>0.0</td>\n",
              "      <td>0.0</td>\n",
              "      <td>1.0</td>\n",
              "    </tr>\n",
              "    <tr>\n",
              "      <th>221365</th>\n",
              "      <td>0.206897</td>\n",
              "      <td>0.0</td>\n",
              "      <td>0.465517</td>\n",
              "      <td>0.420667</td>\n",
              "      <td>0.0</td>\n",
              "      <td>1.0</td>\n",
              "      <td>0.0</td>\n",
              "      <td>0.0</td>\n",
              "      <td>0.0</td>\n",
              "      <td>0.0</td>\n",
              "      <td>0.0</td>\n",
              "      <td>0.0</td>\n",
              "      <td>1.0</td>\n",
              "    </tr>\n",
              "  </tbody>\n",
              "</table>\n",
              "</div>"
            ],
            "text/plain": [
              "         purchase_value  sex  ...  browser_Opera  browser_Safari\n",
              "user_id                       ...                               \n",
              "22058          0.172414  0.0  ...            0.0             0.0\n",
              "333320         0.048276  1.0  ...            0.0             0.0\n",
              "1359           0.041379  0.0  ...            1.0             0.0\n",
              "150084         0.241379  0.0  ...            0.0             1.0\n",
              "221365         0.206897  0.0  ...            0.0             1.0\n",
              "\n",
              "[5 rows x 13 columns]"
            ]
          },
          "metadata": {},
          "execution_count": 15
        }
      ]
    },
    {
      "cell_type": "code",
      "metadata": {
        "id": "8TphoyB5ZtVm"
      },
      "source": [
        "#séprarer les données expliquatives et target\n",
        "\n",
        "X = df_redifined.drop(\"is_fraud\", axis=1)\n",
        "y = df_redifined[\"is_fraud\"]\n"
      ],
      "execution_count": null,
      "outputs": []
    },
    {
      "cell_type": "code",
      "metadata": {
        "colab": {
          "base_uri": "https://localhost:8080/",
          "height": 234
        },
        "id": "DBDSFoZCM3IM",
        "outputId": "8ffd1f61-1db6-4da6-e6c9-533c1cd7b9d4"
      },
      "source": [
        "X.head()"
      ],
      "execution_count": null,
      "outputs": [
        {
          "output_type": "execute_result",
          "data": {
            "text/html": [
              "<div>\n",
              "<style scoped>\n",
              "    .dataframe tbody tr th:only-of-type {\n",
              "        vertical-align: middle;\n",
              "    }\n",
              "\n",
              "    .dataframe tbody tr th {\n",
              "        vertical-align: top;\n",
              "    }\n",
              "\n",
              "    .dataframe thead th {\n",
              "        text-align: right;\n",
              "    }\n",
              "</style>\n",
              "<table border=\"1\" class=\"dataframe\">\n",
              "  <thead>\n",
              "    <tr style=\"text-align: right;\">\n",
              "      <th></th>\n",
              "      <th>purchase_value</th>\n",
              "      <th>sex</th>\n",
              "      <th>age</th>\n",
              "      <th>lead_time</th>\n",
              "      <th>source_Ads</th>\n",
              "      <th>source_Direct</th>\n",
              "      <th>source_SEO</th>\n",
              "      <th>browser_Chrome</th>\n",
              "      <th>browser_FireFox</th>\n",
              "      <th>browser_IE</th>\n",
              "      <th>browser_Opera</th>\n",
              "      <th>browser_Safari</th>\n",
              "    </tr>\n",
              "    <tr>\n",
              "      <th>user_id</th>\n",
              "      <th></th>\n",
              "      <th></th>\n",
              "      <th></th>\n",
              "      <th></th>\n",
              "      <th></th>\n",
              "      <th></th>\n",
              "      <th></th>\n",
              "      <th></th>\n",
              "      <th></th>\n",
              "      <th></th>\n",
              "      <th></th>\n",
              "      <th></th>\n",
              "    </tr>\n",
              "  </thead>\n",
              "  <tbody>\n",
              "    <tr>\n",
              "      <th>22058</th>\n",
              "      <td>34</td>\n",
              "      <td>0</td>\n",
              "      <td>39</td>\n",
              "      <td>4506682.0</td>\n",
              "      <td>0</td>\n",
              "      <td>0</td>\n",
              "      <td>1</td>\n",
              "      <td>1</td>\n",
              "      <td>0</td>\n",
              "      <td>0</td>\n",
              "      <td>0</td>\n",
              "      <td>0</td>\n",
              "    </tr>\n",
              "    <tr>\n",
              "      <th>333320</th>\n",
              "      <td>16</td>\n",
              "      <td>1</td>\n",
              "      <td>53</td>\n",
              "      <td>17944.0</td>\n",
              "      <td>1</td>\n",
              "      <td>0</td>\n",
              "      <td>0</td>\n",
              "      <td>1</td>\n",
              "      <td>0</td>\n",
              "      <td>0</td>\n",
              "      <td>0</td>\n",
              "      <td>0</td>\n",
              "    </tr>\n",
              "    <tr>\n",
              "      <th>1359</th>\n",
              "      <td>15</td>\n",
              "      <td>0</td>\n",
              "      <td>53</td>\n",
              "      <td>1.0</td>\n",
              "      <td>0</td>\n",
              "      <td>0</td>\n",
              "      <td>1</td>\n",
              "      <td>0</td>\n",
              "      <td>0</td>\n",
              "      <td>0</td>\n",
              "      <td>1</td>\n",
              "      <td>0</td>\n",
              "    </tr>\n",
              "    <tr>\n",
              "      <th>150084</th>\n",
              "      <td>44</td>\n",
              "      <td>0</td>\n",
              "      <td>41</td>\n",
              "      <td>492085.0</td>\n",
              "      <td>0</td>\n",
              "      <td>0</td>\n",
              "      <td>1</td>\n",
              "      <td>0</td>\n",
              "      <td>0</td>\n",
              "      <td>0</td>\n",
              "      <td>0</td>\n",
              "      <td>1</td>\n",
              "    </tr>\n",
              "    <tr>\n",
              "      <th>221365</th>\n",
              "      <td>39</td>\n",
              "      <td>0</td>\n",
              "      <td>45</td>\n",
              "      <td>4361461.0</td>\n",
              "      <td>1</td>\n",
              "      <td>0</td>\n",
              "      <td>0</td>\n",
              "      <td>0</td>\n",
              "      <td>0</td>\n",
              "      <td>0</td>\n",
              "      <td>0</td>\n",
              "      <td>1</td>\n",
              "    </tr>\n",
              "  </tbody>\n",
              "</table>\n",
              "</div>"
            ],
            "text/plain": [
              "         purchase_value  sex  age  ...  browser_IE  browser_Opera  browser_Safari\n",
              "user_id                            ...                                           \n",
              "22058                34    0   39  ...           0              0               0\n",
              "333320               16    1   53  ...           0              0               0\n",
              "1359                 15    0   53  ...           0              1               0\n",
              "150084               44    0   41  ...           0              0               1\n",
              "221365               39    0   45  ...           0              0               1\n",
              "\n",
              "[5 rows x 12 columns]"
            ]
          },
          "metadata": {},
          "execution_count": 54
        }
      ]
    },
    {
      "cell_type": "code",
      "metadata": {
        "colab": {
          "base_uri": "https://localhost:8080/"
        },
        "id": "If3NGYPzM5Wv",
        "outputId": "6167a654-2ccc-44cb-8291-554c73103cc0"
      },
      "source": [
        "y.head()\n",
        "#collections.Counter(y)"
      ],
      "execution_count": null,
      "outputs": [
        {
          "output_type": "execute_result",
          "data": {
            "text/plain": [
              "user_id\n",
              "22058     0\n",
              "333320    0\n",
              "1359      1\n",
              "150084    0\n",
              "221365    0\n",
              "Name: is_fraud, dtype: int64"
            ]
          },
          "metadata": {},
          "execution_count": 68
        }
      ]
    },
    {
      "cell_type": "code",
      "metadata": {
        "colab": {
          "base_uri": "https://localhost:8080/"
        },
        "id": "9zBmD8ILDYc8",
        "outputId": "10629776-5495-4001-83d8-d460b89c98b9"
      },
      "source": [
        "#séparer les données train et test\n",
        "X_train,X_test,y_train,y_test=train_test_split(X,y,test_size=0.30, random_state=42,stratify=y)\n",
        "\n",
        "#entrainer le modeèle\n",
        "model_log=KNeighborsClassifier(n_neighbors=5).fit(X_train,y_train) #\"#####################################################################################\"#\n",
        "\n",
        "#calculer la target prédite\n",
        "y_pred=model_log.predict(X_test)\n",
        "\n",
        "print(\"Occurence de 0 et 1 dans y_train:\",collections.Counter(y_train))\n",
        "print(\"Occurence de 0 et 1 dans y_test:\",collections.Counter(y_test))\n",
        "print(\"Occurence de 0 et 1 prédit par le modèle (y_pred):\",collections.Counter(y_pred))\n",
        "\n",
        "print(X_test.shape[0]+X_train.shape[0])\n",
        "print(y_test.shape[0]+y_train.shape[0])"
      ],
      "execution_count": null,
      "outputs": [
        {
          "output_type": "stream",
          "name": "stdout",
          "text": [
            "Occurence de 0 et 1 dans y_train: Counter({0: 95872, 1: 9906})\n",
            "Occurence de 0 et 1 dans y_test: Counter({0: 41089, 1: 4245})\n",
            "Occurence de 0 et 1 prédit par le modèle (y_pred): Counter({0: 43045, 1: 2289})\n",
            "151112\n",
            "151112\n"
          ]
        }
      ]
    },
    {
      "cell_type": "code",
      "metadata": {
        "colab": {
          "base_uri": "https://localhost:8080/"
        },
        "id": "dzBt9hfVLZvO",
        "outputId": "98064090-ace4-4ac7-dec7-99e0a11131fb"
      },
      "source": [
        "print(y_test.shape)\n",
        "print (X_train.shape)"
      ],
      "execution_count": null,
      "outputs": [
        {
          "output_type": "stream",
          "name": "stdout",
          "text": [
            "(45334,)\n",
            "(105778, 12)\n"
          ]
        }
      ]
    },
    {
      "cell_type": "code",
      "metadata": {
        "colab": {
          "base_uri": "https://localhost:8080/"
        },
        "id": "TPNLVXrsCIaJ",
        "outputId": "3facece0-beab-4d09-fb5a-48d91d980c21"
      },
      "source": [
        "#calculer l'accuracy\n",
        "print(\"l'accuracy est de: \",accuracy_score(y_test, y_pred))\n",
        "\n",
        "#calculer la balanced accuracy\n",
        "print(\"\\nComme la Balanced accuracy est de:\",balanced_accuracy_score(y_test,y_pred),\"alors il y a effectivment déséquilibre des classes.\")\n",
        "print(\"L'accuracy n'a pas suffit à se prononcer sur la performance du modèle malgré qu'elle est elevée\")\n",
        "\n",
        "\n",
        "#matrice de confusion\n",
        "print(\"\\n Matrice de confusion:\", confusion_matrix(y_test,y_pred))\n",
        "\n",
        "tn, fp, fn, tp = confusion_matrix(y_test,y_pred).ravel()\n",
        "print(\"\\n Vrais négatifs:\",tn,\"\\n Faux positifs:\",fp,\"\\n Faux négatifs:\",fn,\"\\n Vrais positifs:\",tp)\n",
        "\n",
        "\n",
        "#rapport de classification et focus sur le f1_score\n",
        "\n",
        "print(classification_report(y_test, y_pred))"
      ],
      "execution_count": null,
      "outputs": [
        {
          "output_type": "stream",
          "name": "stdout",
          "text": [
            "l'accuracy est de:  0.9557065337274452\n",
            "\n",
            "Comme la Balanced accuracy est de: 0.7662324946557304 alors il y a effectivment déséquilibre des classes.\n",
            "L'accuracy n'a pas suffit à se prononcer sur la performance du modèle malgré qu'elle est elevée\n",
            "\n",
            " Matrice de confusion: [[41063    26]\n",
            " [ 1982  2263]]\n",
            "\n",
            " Vrais négatifs: 41063 \n",
            " Faux positifs: 26 \n",
            " Faux négatifs: 1982 \n",
            " Vrais positifs: 2263\n",
            "              precision    recall  f1-score   support\n",
            "\n",
            "           0       0.95      1.00      0.98     41089\n",
            "           1       0.99      0.53      0.69      4245\n",
            "\n",
            "    accuracy                           0.96     45334\n",
            "   macro avg       0.97      0.77      0.83     45334\n",
            "weighted avg       0.96      0.96      0.95     45334\n",
            "\n"
          ]
        }
      ]
    },
    {
      "cell_type": "code",
      "metadata": {
        "id": "7WkaGcXLLCnt"
      },
      "source": [
        ""
      ],
      "execution_count": null,
      "outputs": []
    },
    {
      "cell_type": "code",
      "metadata": {
        "colab": {
          "base_uri": "https://localhost:8080/",
          "height": 229
        },
        "id": "mXntheZ_Ltt1",
        "outputId": "a9d89417-b76e-405d-9dc4-4aadaa95a60b"
      },
      "source": [
        "#calculer les odd et identifier les variables les plus significatives\n",
        "\n",
        "odd_ratio = np.exp(model_log.coef_)\n",
        "X_odd = pd.DataFrame(X.columns, columns=[\"variables\"])\n",
        "\n",
        "X_odd[\"odd_ratio\"] = odd_ratio.tolist()[0]\n",
        "X_odd\n"
      ],
      "execution_count": null,
      "outputs": [
        {
          "output_type": "error",
          "ename": "AttributeError",
          "evalue": "ignored",
          "traceback": [
            "\u001b[0;31m---------------------------------------------------------------------------\u001b[0m",
            "\u001b[0;31mAttributeError\u001b[0m                            Traceback (most recent call last)",
            "\u001b[0;32m<ipython-input-54-4a42c8aca226>\u001b[0m in \u001b[0;36m<module>\u001b[0;34m()\u001b[0m\n\u001b[1;32m      1\u001b[0m \u001b[0;31m#calculer les odd et identifier les variables les plus significatives\u001b[0m\u001b[0;34m\u001b[0m\u001b[0;34m\u001b[0m\u001b[0;34m\u001b[0m\u001b[0m\n\u001b[1;32m      2\u001b[0m \u001b[0;34m\u001b[0m\u001b[0m\n\u001b[0;32m----> 3\u001b[0;31m \u001b[0modd_ratio\u001b[0m \u001b[0;34m=\u001b[0m \u001b[0mnp\u001b[0m\u001b[0;34m.\u001b[0m\u001b[0mexp\u001b[0m\u001b[0;34m(\u001b[0m\u001b[0mmodel_log\u001b[0m\u001b[0;34m.\u001b[0m\u001b[0mcoef_\u001b[0m\u001b[0;34m)\u001b[0m\u001b[0;34m\u001b[0m\u001b[0;34m\u001b[0m\u001b[0m\n\u001b[0m\u001b[1;32m      4\u001b[0m \u001b[0mX_odd\u001b[0m \u001b[0;34m=\u001b[0m \u001b[0mpd\u001b[0m\u001b[0;34m.\u001b[0m\u001b[0mDataFrame\u001b[0m\u001b[0;34m(\u001b[0m\u001b[0mX\u001b[0m\u001b[0;34m.\u001b[0m\u001b[0mcolumns\u001b[0m\u001b[0;34m,\u001b[0m \u001b[0mcolumns\u001b[0m\u001b[0;34m=\u001b[0m\u001b[0;34m[\u001b[0m\u001b[0;34m\"variables\"\u001b[0m\u001b[0;34m]\u001b[0m\u001b[0;34m)\u001b[0m\u001b[0;34m\u001b[0m\u001b[0;34m\u001b[0m\u001b[0m\n\u001b[1;32m      5\u001b[0m \u001b[0;34m\u001b[0m\u001b[0m\n",
            "\u001b[0;31mAttributeError\u001b[0m: 'KNeighborsClassifier' object has no attribute 'coef_'"
          ]
        }
      ]
    },
    {
      "cell_type": "markdown",
      "metadata": {
        "id": "_AoylbENeGpr"
      },
      "source": [
        "# **Rééquilibrage des classe avec RandomOverSampler**\n",
        "\n",
        "---\n",
        "\n"
      ]
    },
    {
      "cell_type": "code",
      "metadata": {
        "colab": {
          "base_uri": "https://localhost:8080/"
        },
        "id": "9rvQAQ8hYkmM",
        "outputId": "ccfb41ef-bbe4-49f4-d647-494665322ec0"
      },
      "source": [
        "from imblearn.over_sampling import RandomOverSampler,SMOTE\n",
        "\n",
        "oversample = RandomOverSampler(sampling_strategy='minority')\n",
        "X_train_balanced, y_train_balanced = oversample.fit_resample(X_train, y_train)\n",
        "print('occurance 0 et 1 dans y_train_balanced:',collections.Counter(y_train_balanced))\n",
        "print(\"\\ncompraratif entre y_train(avant oversampling) VS y_train_balanced (après oversampling):\\n\",collections.Counter(y_train), collections.Counter(y_train_balanced))\n"
      ],
      "execution_count": null,
      "outputs": [
        {
          "output_type": "stream",
          "name": "stdout",
          "text": [
            "occurance 0 et 1 dans y_train_balanced: Counter({0: 95872, 1: 95872})\n",
            "\n",
            "compraratif entre y_train(avant oversampling) VS y_train_balanced (après oversampling):\n",
            " Counter({0: 95872, 1: 9906}) Counter({0: 95872, 1: 95872})\n"
          ]
        },
        {
          "output_type": "stream",
          "name": "stderr",
          "text": [
            "/usr/local/lib/python3.7/dist-packages/sklearn/utils/deprecation.py:87: FutureWarning: Function safe_indexing is deprecated; safe_indexing is deprecated in version 0.22 and will be removed in version 0.24.\n",
            "  warnings.warn(msg, category=FutureWarning)\n"
          ]
        }
      ]
    },
    {
      "cell_type": "code",
      "metadata": {
        "colab": {
          "base_uri": "https://localhost:8080/"
        },
        "id": "BYerFNLjcKcA",
        "outputId": "6208352f-ef48-4480-82a3-b1f60935cbaa"
      },
      "source": [
        "#entrainter le modèle avec les classes rééquilibrées\n",
        "\n",
        "#entrainer le modeèle après rééquilbrage des classes\n",
        "model_log_balanced=KNeighborsClassifier(n_neighbors=5).fit(X_train_balanced,y_train_balanced) ################################################################################\"\"\n",
        "\n",
        "#calculer la target prédite après rééquilbrage des classes\n",
        "y_pred_balanced=model_log_balanced.predict(X_test)\n",
        "\n",
        "print(collections.Counter(y_test))\n",
        "print(\"\\noccurences des 0 et 1 du y_predit_balanced après rééquilibrage :\",collections.Counter(y_pred_balanced))\n"
      ],
      "execution_count": null,
      "outputs": [
        {
          "output_type": "stream",
          "name": "stdout",
          "text": [
            "Counter({0: 41089, 1: 4245})\n",
            "\n",
            "occurences des 0 et 1 du y_predit_balanced après rééquilibrage : Counter({0: 37400, 1: 7934})\n"
          ]
        }
      ]
    },
    {
      "cell_type": "code",
      "metadata": {
        "colab": {
          "base_uri": "https://localhost:8080/"
        },
        "id": "rf1H2J3bT_SI",
        "outputId": "7ac99400-404e-49fa-bc8a-31ff092346ef"
      },
      "source": [
        "#calculer l'accuracy\n",
        "print(\"l'accuracy est de: \",accuracy_score(y_test, y_pred_balanced))\n",
        "\n",
        "#calculer la balanced accuracy\n",
        "print(\"\\nla Balanced accuracy est de:\",balanced_accuracy_score(y_test,y_pred_balanced))\n",
        "\n",
        "\n",
        "#matrice de confusion\n",
        "print(\"\\n Matrice de confusion:\", confusion_matrix(y_test,y_pred_balanced))\n",
        "\n",
        "tn, fp, fn, tp = confusion_matrix(y_test,y_pred_balanced).ravel()\n",
        "print(\"\\n Vrais négatifs:\",tn,\"\\n Faux positifs:\",fp,\"\\n Faux négatifs:\",fn,\"\\n Vrais positifs:\",tp)\n",
        "\n",
        "\n",
        "#rapport de classification et focus sur le f1_score\n",
        "\n",
        "print(classification_report(y_test, y_pred_balanced))"
      ],
      "execution_count": null,
      "outputs": [
        {
          "output_type": "stream",
          "name": "stdout",
          "text": [
            "l'accuracy est de:  0.842789076631226\n",
            "\n",
            "la Balanced accuracy est de: 0.7317181345638835\n",
            "\n",
            " Matrice de confusion: [[35681  5408]\n",
            " [ 1719  2526]]\n",
            "\n",
            " Vrais négatifs: 35681 \n",
            " Faux positifs: 5408 \n",
            " Faux négatifs: 1719 \n",
            " Vrais positifs: 2526\n",
            "              precision    recall  f1-score   support\n",
            "\n",
            "           0       0.95      0.87      0.91     41089\n",
            "           1       0.32      0.60      0.41      4245\n",
            "\n",
            "    accuracy                           0.84     45334\n",
            "   macro avg       0.64      0.73      0.66     45334\n",
            "weighted avg       0.89      0.84      0.86     45334\n",
            "\n"
          ]
        }
      ]
    },
    {
      "cell_type": "code",
      "metadata": {
        "colab": {
          "base_uri": "https://localhost:8080/",
          "height": 229
        },
        "id": "CKU5TtGvfTyT",
        "outputId": "65710c0c-0bbc-43de-c8b3-bf94bfb51d40"
      },
      "source": [
        "#calculer les odd et identifier les variables les plus significatives après le rééquilibrage\n",
        "\n",
        "odd_ratio_balanced = np.exp(model_log_balanced.coef_)\n",
        "X_odd_balanced = pd.DataFrame(X.columns, columns=[\"variables\"])\n",
        "\n",
        "X_odd_balanced[\"odd_ratio\"] = odd_ratio_balanced.tolist()[0]\n",
        "X_odd_balanced"
      ],
      "execution_count": null,
      "outputs": [
        {
          "output_type": "error",
          "ename": "AttributeError",
          "evalue": "ignored",
          "traceback": [
            "\u001b[0;31m---------------------------------------------------------------------------\u001b[0m",
            "\u001b[0;31mAttributeError\u001b[0m                            Traceback (most recent call last)",
            "\u001b[0;32m<ipython-input-17-2cdf458850f5>\u001b[0m in \u001b[0;36m<module>\u001b[0;34m()\u001b[0m\n\u001b[1;32m      1\u001b[0m \u001b[0;31m#calculer les odd et identifier les variables les plus significatives après le rééquilibrage\u001b[0m\u001b[0;34m\u001b[0m\u001b[0;34m\u001b[0m\u001b[0;34m\u001b[0m\u001b[0m\n\u001b[1;32m      2\u001b[0m \u001b[0;34m\u001b[0m\u001b[0m\n\u001b[0;32m----> 3\u001b[0;31m \u001b[0modd_ratio_balanced\u001b[0m \u001b[0;34m=\u001b[0m \u001b[0mnp\u001b[0m\u001b[0;34m.\u001b[0m\u001b[0mexp\u001b[0m\u001b[0;34m(\u001b[0m\u001b[0mmodel_log_balanced\u001b[0m\u001b[0;34m.\u001b[0m\u001b[0mcoef_\u001b[0m\u001b[0;34m)\u001b[0m\u001b[0;34m\u001b[0m\u001b[0;34m\u001b[0m\u001b[0m\n\u001b[0m\u001b[1;32m      4\u001b[0m \u001b[0mX_odd_balanced\u001b[0m \u001b[0;34m=\u001b[0m \u001b[0mpd\u001b[0m\u001b[0;34m.\u001b[0m\u001b[0mDataFrame\u001b[0m\u001b[0;34m(\u001b[0m\u001b[0mX\u001b[0m\u001b[0;34m.\u001b[0m\u001b[0mcolumns\u001b[0m\u001b[0;34m,\u001b[0m \u001b[0mcolumns\u001b[0m\u001b[0;34m=\u001b[0m\u001b[0;34m[\u001b[0m\u001b[0;34m\"variables\"\u001b[0m\u001b[0;34m]\u001b[0m\u001b[0;34m)\u001b[0m\u001b[0;34m\u001b[0m\u001b[0;34m\u001b[0m\u001b[0m\n\u001b[1;32m      5\u001b[0m \u001b[0;34m\u001b[0m\u001b[0m\n",
            "\u001b[0;31mAttributeError\u001b[0m: 'KNeighborsClassifier' object has no attribute 'coef_'"
          ]
        }
      ]
    },
    {
      "cell_type": "markdown",
      "metadata": {
        "id": "Inw-9Ymvhf7k"
      },
      "source": [
        "# **Rééquilibrage des classes avec SMOTE**\n",
        "\n",
        "\n"
      ]
    },
    {
      "cell_type": "code",
      "metadata": {
        "colab": {
          "base_uri": "https://localhost:8080/"
        },
        "id": "4T0_Yps-iOIX",
        "outputId": "8830b035-41b9-42a6-b9d8-e00119f7aff9"
      },
      "source": [
        "#rééquilibrage des classes avec SMOTE\n",
        "sm = SMOTE(sampling_strategy='minority')\n",
        "X_train_smote, y_train_smote = sm.fit_resample(X_train, y_train)\n",
        "print('occurence 0 et 1 dans le y_train_smote après oversampling:',collections.Counter(y_train_smote))\n",
        "print(\"\\ncompraratif entre y_train(avant oversampling) VS y_train_smote (après oversampling):\\n\",collections.Counter(y_train), collections.Counter(y_train_smote))\n",
        "\n"
      ],
      "execution_count": null,
      "outputs": [
        {
          "output_type": "stream",
          "name": "stderr",
          "text": [
            "/usr/local/lib/python3.7/dist-packages/sklearn/utils/deprecation.py:87: FutureWarning: Function safe_indexing is deprecated; safe_indexing is deprecated in version 0.22 and will be removed in version 0.24.\n",
            "  warnings.warn(msg, category=FutureWarning)\n"
          ]
        },
        {
          "output_type": "stream",
          "name": "stdout",
          "text": [
            "occurence 0 et 1 dans le y_train_smote après oversampling: Counter({0: 95872, 1: 95872})\n",
            "\n",
            "compraratif entre y_train(avant oversampling) VS y_train_smote (après oversampling):\n",
            " Counter({0: 95872, 1: 9906}) Counter({0: 95872, 1: 95872})\n"
          ]
        }
      ]
    },
    {
      "cell_type": "code",
      "metadata": {
        "colab": {
          "base_uri": "https://localhost:8080/"
        },
        "id": "f4d4H5mYixZX",
        "outputId": "9bca36e4-7c3e-4653-c0d6-39b0947d7e91"
      },
      "source": [
        "\n",
        "#entrainter le modèle avec les classes rééquilibrées\n",
        "\n",
        "#entrainer le modeèle après rééquilbrage des classes\n",
        "model_log_smote=KNeighborsClassifier(n_neighbors=5).fit(X_train_smote,y_train_smote)\n",
        "\n",
        "#calculer la target prédite après rééquilbrage des classes\n",
        "y_pred_smote=model_log_smote.predict(X_test)\n",
        "\n",
        "print(collections.Counter(y_test))\n",
        "print(\"\\noccurences des 0 et 1 du y prédit après rééquilibrage :\",collections.Counter(y_pred_smote))\n"
      ],
      "execution_count": null,
      "outputs": [
        {
          "output_type": "stream",
          "name": "stdout",
          "text": [
            "Counter({0: 41089, 1: 4245})\n",
            "\n",
            "occurences des 0 et 1 du y prédit après rééquilibrage : Counter({0: 35273, 1: 10061})\n"
          ]
        }
      ]
    },
    {
      "cell_type": "code",
      "metadata": {
        "colab": {
          "base_uri": "https://localhost:8080/"
        },
        "id": "BjNq62adj6km",
        "outputId": "8c187fbf-5248-416b-e18b-cf2b25940731"
      },
      "source": [
        "#calculer l'accuracy avec smote\n",
        "print(\"l'accuracy est de: \",accuracy_score(y_test, y_pred_smote))\n",
        "\n",
        "#calculer la balanced accuracy\n",
        "print(\"\\nla Balanced accuracy est de:\",balanced_accuracy_score(y_test,y_pred_smote))\n",
        "\n",
        "\n",
        "#matrice de confusion\n",
        "print(\"\\n Matrice de confusion:\", confusion_matrix(y_test,y_pred_smote))\n",
        "\n",
        "tn, fp, fn, tp = confusion_matrix(y_test,y_pred_smote).ravel()\n",
        "print(\"\\n Vrais négatifs:\",tn,\"\\n Faux positifs:\",fp,\"\\n Faux négatifs:\",fn,\"\\n Vrais positifs:\",tp)\n",
        "\n",
        "\n",
        "#rapport de classification et focus sur le f1_score\n",
        "\n",
        "print(classification_report(y_test, y_pred_smote))"
      ],
      "execution_count": null,
      "outputs": [
        {
          "output_type": "stream",
          "name": "stdout",
          "text": [
            "l'accuracy est de:  0.8010323377597388\n",
            "\n",
            "la Balanced accuracy est de: 0.7210399523158684\n",
            "\n",
            " Matrice de confusion: [[33671  7418]\n",
            " [ 1602  2643]]\n",
            "\n",
            " Vrais négatifs: 33671 \n",
            " Faux positifs: 7418 \n",
            " Faux négatifs: 1602 \n",
            " Vrais positifs: 2643\n",
            "              precision    recall  f1-score   support\n",
            "\n",
            "           0       0.95      0.82      0.88     41089\n",
            "           1       0.26      0.62      0.37      4245\n",
            "\n",
            "    accuracy                           0.80     45334\n",
            "   macro avg       0.61      0.72      0.63     45334\n",
            "weighted avg       0.89      0.80      0.83     45334\n",
            "\n"
          ]
        }
      ]
    },
    {
      "cell_type": "markdown",
      "metadata": {
        "id": "QVLH23Q7JHZT"
      },
      "source": [
        "# **Rééquilibrage des classes sur l'ensemble du dataframe**"
      ]
    },
    {
      "cell_type": "code",
      "metadata": {
        "id": "vdPkmnitnH-T",
        "colab": {
          "base_uri": "https://localhost:8080/"
        },
        "outputId": "e1231265-329f-4d1d-cde2-4c02ed42b048"
      },
      "source": [
        "\n",
        "oversampled_model = RandomOverSampler(sampling_strategy='minority')\n",
        "XX_balanced,yy_balanced = oversampled_model.fit_resample(X, y)\n",
        "XX_train_balanced, XX_test_balanced, yy_train_balanced, yy_test_balanced = train_test_split(XX_balanced, yy_balanced, test_size=0.30, random_state=42, stratify=yy_balanced)\n",
        "\n",
        "\n",
        "print(collections.Counter(y_train), collections.Counter(yy_train_balanced))\n",
        "\n",
        "print((yy_test_balanced.shape[0]+yy_train_balanced.shape[0])- df.shape[0], \"lignes ont été rajoutées après l'oversampling. Le nombre initial de ligne est de 151112 !!\") "
      ],
      "execution_count": null,
      "outputs": [
        {
          "output_type": "stream",
          "name": "stderr",
          "text": [
            "/usr/local/lib/python3.7/dist-packages/sklearn/utils/deprecation.py:87: FutureWarning: Function safe_indexing is deprecated; safe_indexing is deprecated in version 0.22 and will be removed in version 0.24.\n",
            "  warnings.warn(msg, category=FutureWarning)\n"
          ]
        },
        {
          "output_type": "stream",
          "name": "stdout",
          "text": [
            "Counter({0: 95872, 1: 9906}) Counter({1: 95873, 0: 95872})\n",
            "122810 lignes ont été rajoutées après l'oversampling. Le nombre initial de ligne est de 151112 !!\n"
          ]
        }
      ]
    },
    {
      "cell_type": "code",
      "metadata": {
        "id": "T7gyJctMnL3p",
        "colab": {
          "base_uri": "https://localhost:8080/"
        },
        "outputId": "e1c20131-4704-485b-8e78-508d02c99c64"
      },
      "source": [
        "#entrainter le modèle avec les classes rééquilibrées\n",
        "\n",
        "#entrainer le modeèle après rééquilbrage des classes\n",
        "model=KNeighborsClassifier(n_neighbors=5).fit(XX_train_balanced,yy_train_balanced)\n",
        "\n",
        "#calculer la target prédite après rééquilbrage des classes\n",
        "yy_pred_balanced=model.predict(XX_test_balanced)\n",
        "\n",
        "print(collections.Counter(y_test))\n",
        "print(\"\\noccurences des 0 et 1 du y prédit après rééquilibrage :\",collections.Counter(yy_pred_balanced))\n"
      ],
      "execution_count": null,
      "outputs": [
        {
          "output_type": "stream",
          "name": "stdout",
          "text": [
            "Counter({0: 41089, 1: 4245})\n",
            "\n",
            "occurences des 0 et 1 du y prédit après rééquilibrage : Counter({1: 48002, 0: 34175})\n"
          ]
        }
      ]
    },
    {
      "cell_type": "code",
      "metadata": {
        "id": "snHDmVAlSpEn"
      },
      "source": [
        ""
      ],
      "execution_count": null,
      "outputs": []
    },
    {
      "cell_type": "code",
      "metadata": {
        "colab": {
          "base_uri": "https://localhost:8080/"
        },
        "id": "JnondrPoR-Qa",
        "outputId": "36fad77f-1e89-4c50-b7bd-4450b812c78a"
      },
      "source": [
        "#calculer l'accuracy\n",
        "print(\"l'accuracy est de: \",accuracy_score(yy_test_balanced, yy_pred_balanced))\n",
        "\n",
        "#calculer la balanced accuracy\n",
        "print(\"\\nla Balanced accuracy est de:\",balanced_accuracy_score(yy_test_balanced,yy_pred_balanced))\n",
        "\n",
        "\n",
        "#matrice de confusion\n",
        "print(\"\\n Matrice de confusion:\", confusion_matrix(yy_test_balanced,yy_pred_balanced))\n",
        "\n",
        "tn, fp, fn, tp = confusion_matrix(yy_test_balanced,yy_pred_balanced).ravel()\n",
        "print(\"\\n Vrais négatifs:\",tn,\"\\n Faux positifs:\",fp,\"\\n Faux négatifs:\",fn,\"\\n Vrais positifs:\",tp)\n",
        "\n",
        "\n",
        "#rapport de classification et focus sur le f1_score\n",
        "\n",
        "print(classification_report(yy_test_balanced, yy_pred_balanced))"
      ],
      "execution_count": null,
      "outputs": [
        {
          "output_type": "stream",
          "name": "stdout",
          "text": [
            "l'accuracy est de:  0.9045718388356839\n",
            "\n",
            "la Balanced accuracy est de: 0.9045728626538138\n",
            "\n",
            " Matrice de confusion: [[33711  7378]\n",
            " [  464 40624]]\n",
            "\n",
            " Vrais négatifs: 33711 \n",
            " Faux positifs: 7378 \n",
            " Faux négatifs: 464 \n",
            " Vrais positifs: 40624\n",
            "              precision    recall  f1-score   support\n",
            "\n",
            "           0       0.99      0.82      0.90     41089\n",
            "           1       0.85      0.99      0.91     41088\n",
            "\n",
            "    accuracy                           0.90     82177\n",
            "   macro avg       0.92      0.90      0.90     82177\n",
            "weighted avg       0.92      0.90      0.90     82177\n",
            "\n"
          ]
        }
      ]
    },
    {
      "cell_type": "code",
      "metadata": {
        "colab": {
          "base_uri": "https://localhost:8080/"
        },
        "id": "izSPl7yiM7GE",
        "outputId": "15ab21c1-dfe0-43f9-843b-59daa75aeec7"
      },
      "source": [
        "###################### predir une transaction ################\n",
        "#############################################################\n",
        "#X.head()\n",
        "\n",
        "transaction = [[170,1,29,200,0,0,1,1,0,0,0,0]]\n",
        "print(model.predict(transaction))\n"
      ],
      "execution_count": null,
      "outputs": [
        {
          "output_type": "stream",
          "name": "stdout",
          "text": [
            "[1]\n"
          ]
        }
      ]
    },
    {
      "cell_type": "code",
      "metadata": {
        "colab": {
          "base_uri": "https://localhost:8080/"
        },
        "id": "2tr4eZdxNI4a",
        "outputId": "87ae32d3-432f-4257-96b6-4dda5927a3b5"
      },
      "source": [
        "pip install pickle-mixin"
      ],
      "execution_count": null,
      "outputs": [
        {
          "output_type": "stream",
          "name": "stdout",
          "text": [
            "Collecting pickle-mixin\n",
            "  Downloading pickle-mixin-1.0.2.tar.gz (5.1 kB)\n",
            "Building wheels for collected packages: pickle-mixin\n",
            "  Building wheel for pickle-mixin (setup.py) ... \u001b[?25l\u001b[?25hdone\n",
            "  Created wheel for pickle-mixin: filename=pickle_mixin-1.0.2-py3-none-any.whl size=6008 sha256=3e365a33cf3f4f8abd70453893f0b6c620ea666863f010c1a72d76a972598c83\n",
            "  Stored in directory: /root/.cache/pip/wheels/d0/70/0b/673e09a7ed429660d22352a1b117b4f616a8fc054bdd7eb157\n",
            "Successfully built pickle-mixin\n",
            "Installing collected packages: pickle-mixin\n",
            "Successfully installed pickle-mixin-1.0.2\n"
          ]
        }
      ]
    },
    {
      "cell_type": "code",
      "metadata": {
        "id": "Y0xbZuGZG9xp"
      },
      "source": [
        "#construire un modèle avec pickle\n",
        "import pickle\n",
        "pickle_out = open(\"fraud_model.pkl\", \"wb\")\n",
        "pickle.dump (model, pickle_out)\n",
        "pickle_out.close()\n"
      ],
      "execution_count": null,
      "outputs": []
    },
    {
      "cell_type": "markdown",
      "source": [
        ""
      ],
      "metadata": {
        "id": "EQrIg_ec9Jcu"
      }
    },
    {
      "cell_type": "code",
      "metadata": {
        "colab": {
          "base_uri": "https://localhost:8080/"
        },
        "id": "Q44X4UtCw8T2",
        "outputId": "f0277a4e-70a8-4de1-f37d-ba4dc328adcf"
      },
      "source": [
        "#\n",
        "!pip install lightgbm\n",
        "!pip install catboost"
      ],
      "execution_count": null,
      "outputs": [
        {
          "output_type": "stream",
          "name": "stdout",
          "text": [
            "/bin/bash: -c: line 0: syntax error near unexpected token `install'\n",
            "/bin/bash: -c: line 0: `pip (install lightgbm)'\n",
            "Collecting catboost\n",
            "  Downloading catboost-1.0.3-cp37-none-manylinux1_x86_64.whl (76.3 MB)\n",
            "\u001b[K     |████████████████████████████████| 76.3 MB 34 kB/s \n",
            "\u001b[?25hRequirement already satisfied: scipy in /usr/local/lib/python3.7/dist-packages (from catboost) (1.4.1)\n",
            "Requirement already satisfied: pandas>=0.24.0 in /usr/local/lib/python3.7/dist-packages (from catboost) (1.1.5)\n",
            "Requirement already satisfied: matplotlib in /usr/local/lib/python3.7/dist-packages (from catboost) (3.2.2)\n",
            "Requirement already satisfied: six in /usr/local/lib/python3.7/dist-packages (from catboost) (1.15.0)\n",
            "Requirement already satisfied: numpy>=1.16.0 in /usr/local/lib/python3.7/dist-packages (from catboost) (1.19.5)\n",
            "Requirement already satisfied: plotly in /usr/local/lib/python3.7/dist-packages (from catboost) (4.4.1)\n",
            "Requirement already satisfied: graphviz in /usr/local/lib/python3.7/dist-packages (from catboost) (0.10.1)\n",
            "Requirement already satisfied: pytz>=2017.2 in /usr/local/lib/python3.7/dist-packages (from pandas>=0.24.0->catboost) (2018.9)\n",
            "Requirement already satisfied: python-dateutil>=2.7.3 in /usr/local/lib/python3.7/dist-packages (from pandas>=0.24.0->catboost) (2.8.2)\n",
            "Requirement already satisfied: pyparsing!=2.0.4,!=2.1.2,!=2.1.6,>=2.0.1 in /usr/local/lib/python3.7/dist-packages (from matplotlib->catboost) (2.4.7)\n",
            "Requirement already satisfied: cycler>=0.10 in /usr/local/lib/python3.7/dist-packages (from matplotlib->catboost) (0.11.0)\n",
            "Requirement already satisfied: kiwisolver>=1.0.1 in /usr/local/lib/python3.7/dist-packages (from matplotlib->catboost) (1.3.2)\n",
            "Requirement already satisfied: retrying>=1.3.3 in /usr/local/lib/python3.7/dist-packages (from plotly->catboost) (1.3.3)\n",
            "Installing collected packages: catboost\n",
            "Successfully installed catboost-1.0.3\n"
          ]
        }
      ]
    },
    {
      "cell_type": "code",
      "metadata": {
        "id": "wyw4UsKMZYVw",
        "colab": {
          "base_uri": "https://localhost:8080/",
          "height": 142
        },
        "outputId": "5658f517-f160-440d-f4d5-fc38c75e98d9"
      },
      "source": [
        "from catboost import CatBoostClassifier\n",
        "from xgboost import XGBClassifier\n",
        "from lightgbm import LGBMClassifier\n",
        "from sklearn.metrics import accuracy_score, precision_score, recall_score, f1_score\n",
        "\n",
        "def ensemble_model(X_train,X_test, Y_train, Y_test):\n",
        "  class_weight={0:0.087, 1:1}\n",
        "  MLA = [CatBoostClassifier(iterations=200, learning_rate=0.3,random_seed=42,verbose=False),\n",
        "         XGBClassifier(n_estimators=200,learning_rate=0.1,random_state=42),\n",
        "         LGBMClassifier(n_estimators=200,is_unbalance=True,learning_rate=0.1, class_weight=class_weight,num_leaves=200,random_state=42,n_jobs=-1)]\n",
        "  MLA_columns = []\n",
        "  MLA_compare = pd.DataFrame(columns = MLA_columns)\n",
        "  row_index = 0\n",
        "  for alg in MLA:\n",
        "    predicted = alg.fit(X_train, Y_train).predict(X_test)\n",
        "    MLA_name = alg.__class__.__name__\n",
        "    MLA_compare.loc[row_index,'Model Name'] = MLA_name\n",
        "    MLA_compare.loc[row_index, 'Train Accuracy'] = round(alg.score(X_train, Y_train), 2)\n",
        "    MLA_compare.loc[row_index, 'Test Accuracy'] = round(alg.score(X_test, Y_test), 2)\n",
        "    MLA_compare.loc[row_index, 'Precision'] = round(precision_score(Y_test, predicted),2)\n",
        "    MLA_compare.loc[row_index, 'Recall'] = round(recall_score(Y_test, predicted),2)\n",
        "    MLA_compare.loc[row_index, 'F1 score'] = round(f1_score(Y_test, predicted),2)\n",
        "    row_index+=1\n",
        "  MLA_compare.sort_values(by = ['Test Accuracy'], ascending = False, inplace = True)    \n",
        "  return MLA_compare  \n",
        "ensemble_model(X_train,X_test, y_train, y_test)"
      ],
      "execution_count": null,
      "outputs": [
        {
          "output_type": "execute_result",
          "data": {
            "text/html": [
              "<div>\n",
              "<style scoped>\n",
              "    .dataframe tbody tr th:only-of-type {\n",
              "        vertical-align: middle;\n",
              "    }\n",
              "\n",
              "    .dataframe tbody tr th {\n",
              "        vertical-align: top;\n",
              "    }\n",
              "\n",
              "    .dataframe thead th {\n",
              "        text-align: right;\n",
              "    }\n",
              "</style>\n",
              "<table border=\"1\" class=\"dataframe\">\n",
              "  <thead>\n",
              "    <tr style=\"text-align: right;\">\n",
              "      <th></th>\n",
              "      <th>Model Name</th>\n",
              "      <th>Train Accuracy</th>\n",
              "      <th>Test Accuracy</th>\n",
              "      <th>Precision</th>\n",
              "      <th>Recall</th>\n",
              "      <th>F1 score</th>\n",
              "    </tr>\n",
              "  </thead>\n",
              "  <tbody>\n",
              "    <tr>\n",
              "      <th>0</th>\n",
              "      <td>CatBoostClassifier</td>\n",
              "      <td>0.96</td>\n",
              "      <td>0.96</td>\n",
              "      <td>1.00</td>\n",
              "      <td>0.53</td>\n",
              "      <td>0.70</td>\n",
              "    </tr>\n",
              "    <tr>\n",
              "      <th>1</th>\n",
              "      <td>XGBClassifier</td>\n",
              "      <td>0.96</td>\n",
              "      <td>0.96</td>\n",
              "      <td>1.00</td>\n",
              "      <td>0.53</td>\n",
              "      <td>0.70</td>\n",
              "    </tr>\n",
              "    <tr>\n",
              "      <th>2</th>\n",
              "      <td>LGBMClassifier</td>\n",
              "      <td>0.67</td>\n",
              "      <td>0.60</td>\n",
              "      <td>0.15</td>\n",
              "      <td>0.72</td>\n",
              "      <td>0.25</td>\n",
              "    </tr>\n",
              "  </tbody>\n",
              "</table>\n",
              "</div>"
            ],
            "text/plain": [
              "           Model Name  Train Accuracy  ...  Recall  F1 score\n",
              "0  CatBoostClassifier            0.96  ...    0.53      0.70\n",
              "1       XGBClassifier            0.96  ...    0.53      0.70\n",
              "2      LGBMClassifier            0.67  ...    0.72      0.25\n",
              "\n",
              "[3 rows x 6 columns]"
            ]
          },
          "metadata": {},
          "execution_count": 34
        }
      ]
    },
    {
      "cell_type": "code",
      "metadata": {
        "id": "r8gJhy3kO0Wp"
      },
      "source": [
        "from catboost import CatBoostClassifier\n",
        "\n",
        "from sklearn.metrics import accuracy_score, precision_score, recall_score, f1_score\n",
        "\n",
        "model_CatBosster = CatBoostClassifier(iterations=200, learning_rate=0.3,random_seed=42,verbose=False)\n",
        " \n",
        "y_predicted = model_CatBosster.fit(X_train, y_train).predict(X_test)\n",
        "   \n",
        "Model_Name= 'CatBoostClassifier'\n",
        "Train_Accuracy = round(model_CatBosster.score(X_train, y_train), 2)\n",
        "Test_Accuracy = round(model_CatBosster.score(X_test, y_test), 2)\n",
        "Precision= round(precision_score(y_test, y_predicted),2)\n",
        "Recall= round(recall_score(y_test, y_predicted),2)\n",
        "F1_score = round(f1_score(y_test, y_predicted),2)\n",
        "print(Train_Accuracy, Test_Accuracy, Precision, Recall, F1_score)\n",
        "  \n",
        "\n"
      ],
      "execution_count": null,
      "outputs": []
    },
    {
      "cell_type": "code",
      "metadata": {
        "colab": {
          "base_uri": "https://localhost:8080/"
        },
        "id": "kR1cFQ5d1Tri",
        "outputId": "d4618c8b-59a1-4145-a7b4-28ad60394af7"
      },
      "source": [
        "print(Train_Accuracy, Test_Accuracy, Precision, Recall, F1_score)\n"
      ],
      "execution_count": null,
      "outputs": [
        {
          "output_type": "stream",
          "name": "stdout",
          "text": [
            "0.96 0.96 1.0 0.53 0.7\n",
            "45334\n"
          ]
        }
      ]
    },
    {
      "cell_type": "code",
      "metadata": {
        "colab": {
          "base_uri": "https://localhost:8080/"
        },
        "id": "6zEHeSEvqb52",
        "outputId": "2ce5a655-b1ad-4436-8adb-010a4caf2705"
      },
      "source": [
        "transaction = [[170,1,29,20,0,0,1,1,0,0,0,0]]\n",
        "print(model_CatBosster.predict(transaction))"
      ],
      "execution_count": null,
      "outputs": [
        {
          "output_type": "stream",
          "name": "stdout",
          "text": [
            "[1]\n"
          ]
        }
      ]
    },
    {
      "cell_type": "code",
      "metadata": {
        "colab": {
          "base_uri": "https://localhost:8080/"
        },
        "id": "bcIsxvIYsjME",
        "outputId": "9ea6db64-4e30-4475-b6dd-f8b354a0b2ac"
      },
      "source": [
        "model_CatBosster.predict_proba(transaction)[0][1]"
      ],
      "execution_count": null,
      "outputs": [
        {
          "output_type": "execute_result",
          "data": {
            "text/plain": [
              "0.9978334094636017"
            ]
          },
          "metadata": {},
          "execution_count": 56
        }
      ]
    }
  ]
}